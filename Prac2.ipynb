{
 "cells": [
  {
   "cell_type": "code",
   "execution_count": 1,
   "id": "premier-wright",
   "metadata": {},
   "outputs": [
    {
     "name": "stdout",
     "output_type": "stream",
     "text": [
      "enter first number: 2\n",
      "enter second numbar: 3\n",
      "enter third numbar: 5\n",
      "10.0\n"
     ]
    }
   ],
   "source": [
    "num1 = input('enter first number: ')\n",
    "num2 = input('enter second numbar: ')\n",
    "num3 = input('enter third numbar: ')\n",
    "\n",
    "sum = float(num1) + float(num2) + float(num3)\n",
    "\n",
    "print(sum)"
   ]
  },
  {
   "cell_type": "code",
   "execution_count": 2,
   "id": "hispanic-midwest",
   "metadata": {},
   "outputs": [
    {
     "name": "stdout",
     "output_type": "stream",
     "text": [
      "enter first number: 5\n",
      "enter second numbar: 2\n",
      "enter third numbar: 1\n",
      "2.0\n"
     ]
    }
   ],
   "source": [
    "num1 = input('enter first number: ')\n",
    "num2 = input('enter second numbar: ')\n",
    "num3 = input('enter third numbar: ')\n",
    "\n",
    "sub = float(num1) - float(num2) -float(num3)\n",
    "\n",
    "print(sub)"
   ]
  },
  {
   "cell_type": "code",
   "execution_count": 15,
   "id": "continental-involvement",
   "metadata": {},
   "outputs": [
    {
     "ename": "SyntaxError",
     "evalue": "invalid syntax (<ipython-input-15-56fd186b62e8>, line 3)",
     "output_type": "error",
     "traceback": [
      "\u001b[0;36m  File \u001b[0;32m\"<ipython-input-15-56fd186b62e8>\"\u001b[0;36m, line \u001b[0;32m3\u001b[0m\n\u001b[0;31m    numird numbar:\u001b[0m\n\u001b[0m           ^\u001b[0m\n\u001b[0;31mSyntaxError\u001b[0m\u001b[0;31m:\u001b[0m invalid syntax\n"
     ]
    }
   ],
   "source": [
    "um1 = input('enter first number: ')\n",
    "num2 = input('enter second numbar: ')\n",
    "numird numbar: \n",
    "multi = (num1) * (num2) * (num3)\n",
    "\n",
    "print(mult"
   ]
  },
  {
   "cell_type": "code",
   "execution_count": 7,
   "id": "suitable-simulation",
   "metadata": {},
   "outputs": [
    {
     "name": "stdout",
     "output_type": "stream",
     "text": [
      "enter first number: 4\n",
      "enter second numbar: 2\n",
      "enter third numbar: 1\n",
      "8.0\n"
     ]
    }
   ],
   "source": [
    "num1 = input('enter first number: ')\n",
    "num2 = input('enter second numbar: ')\n",
    "num3 = input('enter third numbar: ')\n",
    "\n",
    "multi = float(num1) * float(num2) *float(num3)\n",
    "\n",
    "print(multi)"
   ]
  },
  {
   "cell_type": "code",
   "execution_count": 9,
   "id": "following-portuguese",
   "metadata": {},
   "outputs": [
    {
     "name": "stdout",
     "output_type": "stream",
     "text": [
      "enter first number: 2\n",
      "enter second numbar: 4\n",
      "enter third numbar: 6\n",
      "0.08333333333333333\n"
     ]
    }
   ],
   "source": [
    "num1 = input('enter first number: ')\n",
    "num2 = input('enter second numbar: ')\n",
    "num3 = input('enter third numbar: ')\n",
    "\n",
    "div= float(num1) / float(num2) /float(num3)\n",
    "\n",
    "print(div)"
   ]
  },
  {
   "cell_type": "code",
   "execution_count": 11,
   "id": "elegant-brooks",
   "metadata": {},
   "outputs": [
    {
     "name": "stdout",
     "output_type": "stream",
     "text": [
      "The sorted words are:\n",
      "an\n",
      "cased\n",
      "example\n",
      "hello\n",
      "is\n",
      "letters\n",
      "this\n",
      "with\n"
     ]
    }
   ],
   "source": [
    "my_str = \"Hello this Is an Example With cased letters\"\n",
    "words = [word.lower() for word in my_str.split()]\n",
    "words.sort()\n",
    "print(\"The sorted words are:\")\n",
    "for word in words:\n",
    "   print(word)"
   ]
  },
  {
   "cell_type": "code",
   "execution_count": 12,
   "id": "broad-channels",
   "metadata": {},
   "outputs": [
    {
     "name": "stdout",
     "output_type": "stream",
     "text": [
      "The value of x after swapping: 10\n",
      "The value of y after swapping: 5\n"
     ]
    }
   ],
   "source": [
    "x = 5\n",
    "y = 10\n",
    "temp = x\n",
    "x = y\n",
    "y = temp\n",
    "\n",
    "print('The value of x after swapping: {}'.format(x))\n",
    "print('The value of y after swapping: {}'.format(y))"
   ]
  },
  {
   "cell_type": "code",
   "execution_count": 13,
   "id": "altered-indonesian",
   "metadata": {},
   "outputs": [
    {
     "name": "stdout",
     "output_type": "stream",
     "text": [
      "The largest number is 14\n"
     ]
    }
   ],
   "source": [
    "num1 = 10\n",
    "num2 = 14\n",
    "num3 = 12\n",
    "if (num1 >= num2) and (num1 >= num3):\n",
    "   largest = num1\n",
    "elif (num2 >= num1) and (num2 >= num3):\n",
    "   largest = num2\n",
    "else:\n",
    "   largest = num3\n",
    "\n",
    "print(\"The largest number is\", largest)"
   ]
  },
  {
   "cell_type": "code",
   "execution_count": null,
   "id": "numerical-accused",
   "metadata": {},
   "outputs": [],
   "source": [
    "f (num1 >= num2) and (num1 >= num3):\n",
    "   largest = num1\n",
    "elif (num2 >= num1) and (num2 >= num3):\n",
    "   largest = num2\n",
    "else:\n",
    "   largest = num3\n",
    "\n",
    "print(\"The largest number is\", largest)"
   ]
  },
  {
   "cell_type": "code",
   "execution_count": 14,
   "id": "eligible-individual",
   "metadata": {},
   "outputs": [
    {
     "name": "stdout",
     "output_type": "stream",
     "text": [
      "The smallest number is 10\n"
     ]
    }
   ],
   "source": [
    "num1 = 10\n",
    "num2 = 20\n",
    "num3 = 15\n",
    "if (num1 <= num2) and (num1 <= num3):\n",
    "   smallest = num1\n",
    "elif (num2 <= num1) and (num2 <= num3):\n",
    "   smallest = num2\n",
    "else:\n",
    "   smallest = num3\n",
    "\n",
    "print(\"The smallest number is\",smallest)"
   ]
  },
  {
   "cell_type": "code",
   "execution_count": null,
   "id": "furnished-vehicle",
   "metadata": {},
   "outputs": [],
   "source": []
  }
 ],
 "metadata": {
  "kernelspec": {
   "display_name": "Python 3",
   "language": "python",
   "name": "python3"
  },
  "language_info": {
   "codemirror_mode": {
    "name": "ipython",
    "version": 3
   },
   "file_extension": ".py",
   "mimetype": "text/x-python",
   "name": "python",
   "nbconvert_exporter": "python",
   "pygments_lexer": "ipython3",
   "version": "3.8.3"
  }
 },
 "nbformat": 4,
 "nbformat_minor": 5
}
