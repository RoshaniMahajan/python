{
 "cells": [
  {
   "cell_type": "code",
   "execution_count": 1,
   "id": "chief-choir",
   "metadata": {},
   "outputs": [
    {
     "name": "stdout",
     "output_type": "stream",
     "text": [
      "fav_sub c++ java python\n"
     ]
    }
   ],
   "source": [
    "print('fav_sub','c++','java', 'python')"
   ]
  },
  {
   "cell_type": "code",
   "execution_count": 2,
   "id": "every-console",
   "metadata": {},
   "outputs": [
    {
     "name": "stdout",
     "output_type": "stream",
     "text": [
      "RoshaniMahajan\n"
     ]
    }
   ],
   "source": [
    "firstname=\"Roshani\"\n",
    "lastname=\"Mahajan\"\n",
    "sentence=f\"{firstname.title()}{lastname.title()}\"\n",
    "print(sentence)"
   ]
  },
  {
   "cell_type": "code",
   "execution_count": 5,
   "id": "artificial-northwest",
   "metadata": {},
   "outputs": [
    {
     "name": "stdout",
     "output_type": "stream",
     "text": [
      "fav_sub\n",
      " c\n",
      " c++\n",
      " oops\n",
      " java\n",
      " javascript\n",
      " python\n",
      " oracle\n",
      "\n"
     ]
    }
   ],
   "source": [
    "print('fav_sub\\n','c\\n','c++\\n','oops\\n','java\\n','javascript\\n','python\\n','oracle\\n')"
   ]
  },
  {
   "cell_type": "code",
   "execution_count": 7,
   "id": "changing-airport",
   "metadata": {},
   "outputs": [
    {
     "name": "stdout",
     "output_type": "stream",
     "text": [
      "fav_sub\n",
      " c\n",
      " c++\n",
      "\t oops\n",
      "\t python\n",
      "\n"
     ]
    }
   ],
   "source": [
    "print('fav_sub\\n','c\\n','c++\\n\\t','oops\\n\\t','python\\n')"
   ]
  },
  {
   "cell_type": "code",
   "execution_count": 11,
   "id": "settled-anatomy",
   "metadata": {},
   "outputs": [],
   "source": [
    "name = 'roshani'"
   ]
  },
  {
   "cell_type": "code",
   "execution_count": 8,
   "id": "corresponding-sharing",
   "metadata": {},
   "outputs": [
    {
     "ename": "NameError",
     "evalue": "name 'name' is not defined",
     "output_type": "error",
     "traceback": [
      "\u001b[0;31m------------------------------------------------------------\u001b[0m",
      "\u001b[0;31mNameError\u001b[0m                  Traceback (most recent call last)",
      "\u001b[0;32m<ipython-input-8-9ba126b17b03>\u001b[0m in \u001b[0;36m<module>\u001b[0;34m\u001b[0m\n\u001b[0;32m----> 1\u001b[0;31m \u001b[0mprint\u001b[0m\u001b[0;34m(\u001b[0m\u001b[0mname\u001b[0m\u001b[0;34m)\u001b[0m\u001b[0;34m\u001b[0m\u001b[0;34m\u001b[0m\u001b[0m\n\u001b[0m",
      "\u001b[0;31mNameError\u001b[0m: name 'name' is not defined"
     ]
    }
   ],
   "source": [
    "print(name)"
   ]
  },
  {
   "cell_type": "code",
   "execution_count": 15,
   "id": "going-missouri",
   "metadata": {
    "scrolled": true
   },
   "outputs": [],
   "source": [
    "name='roshani'"
   ]
  },
  {
   "cell_type": "code",
   "execution_count": 13,
   "id": "pharmaceutical-miller",
   "metadata": {},
   "outputs": [
    {
     "name": "stdout",
     "output_type": "stream",
     "text": [
      "roshani\n"
     ]
    }
   ],
   "source": [
    "print(name)"
   ]
  },
  {
   "cell_type": "code",
   "execution_count": 14,
   "id": "engaged-reference",
   "metadata": {},
   "outputs": [],
   "source": [
    "name1='  roshani'"
   ]
  },
  {
   "cell_type": "code",
   "execution_count": 16,
   "id": "composed-robin",
   "metadata": {},
   "outputs": [
    {
     "name": "stdout",
     "output_type": "stream",
     "text": [
      "  roshani\n"
     ]
    }
   ],
   "source": [
    "print(name1)"
   ]
  },
  {
   "cell_type": "code",
   "execution_count": 17,
   "id": "annoying-pioneer",
   "metadata": {},
   "outputs": [
    {
     "data": {
      "text/plain": [
       "'roshani'"
      ]
     },
     "execution_count": 17,
     "metadata": {},
     "output_type": "execute_result"
    }
   ],
   "source": [
    "name1.lstrip()"
   ]
  },
  {
   "cell_type": "code",
   "execution_count": 18,
   "id": "deadly-debut",
   "metadata": {},
   "outputs": [],
   "source": [
    "name_me=' radha'"
   ]
  },
  {
   "cell_type": "code",
   "execution_count": 19,
   "id": "earned-bowling",
   "metadata": {},
   "outputs": [
    {
     "name": "stdout",
     "output_type": "stream",
     "text": [
      " radha\n"
     ]
    }
   ],
   "source": [
    "print(name_me)"
   ]
  },
  {
   "cell_type": "code",
   "execution_count": 20,
   "id": "productive-monday",
   "metadata": {},
   "outputs": [
    {
     "data": {
      "text/plain": [
       "'radha'"
      ]
     },
     "execution_count": 20,
     "metadata": {},
     "output_type": "execute_result"
    }
   ],
   "source": [
    "name_me.lstrip()"
   ]
  },
  {
   "cell_type": "code",
   "execution_count": 40,
   "id": "rising-mouth",
   "metadata": {},
   "outputs": [],
   "source": [
    "students=['ram','chitra','khushal','harsha']"
   ]
  },
  {
   "cell_type": "code",
   "execution_count": 22,
   "id": "crazy-situation",
   "metadata": {},
   "outputs": [
    {
     "name": "stdout",
     "output_type": "stream",
     "text": [
      "('ram', 'chitra', 'khushal', 'harsha')\n"
     ]
    }
   ],
   "source": [
    "print(students)"
   ]
  },
  {
   "cell_type": "code",
   "execution_count": 23,
   "id": "valuable-yesterday",
   "metadata": {},
   "outputs": [
    {
     "data": {
      "text/plain": [
       "tuple"
      ]
     },
     "execution_count": 23,
     "metadata": {},
     "output_type": "execute_result"
    }
   ],
   "source": [
    "type(students)"
   ]
  },
  {
   "cell_type": "code",
   "execution_count": 28,
   "id": "deadly-dialogue",
   "metadata": {},
   "outputs": [
    {
     "data": {
      "text/plain": [
       "('ram', 'chitra', 'khushal', 'harsha')"
      ]
     },
     "execution_count": 28,
     "metadata": {},
     "output_type": "execute_result"
    }
   ],
   "source": [
    "'ram','chitra','khushal','harsha'"
   ]
  },
  {
   "cell_type": "code",
   "execution_count": 26,
   "id": "hawaiian-perry",
   "metadata": {},
   "outputs": [
    {
     "name": "stdout",
     "output_type": "stream",
     "text": [
      "chitra\n"
     ]
    }
   ],
   "source": [
    "print(students [1])"
   ]
  },
  {
   "cell_type": "code",
   "execution_count": 27,
   "id": "cultural-stuart",
   "metadata": {},
   "outputs": [
    {
     "name": "stdout",
     "output_type": "stream",
     "text": [
      "chitra khushal harsha\n"
     ]
    }
   ],
   "source": [
    "print(students[1], students [2], students [3])"
   ]
  },
  {
   "cell_type": "code",
   "execution_count": 41,
   "id": "cordless-harmony",
   "metadata": {},
   "outputs": [
    {
     "name": "stdout",
     "output_type": "stream",
     "text": [
      "['ram', 'chitra', 'khushal', 'harsha', 'radha']\n"
     ]
    }
   ],
   "source": [
    "students.append('radha')\n",
    "print(students)"
   ]
  },
  {
   "cell_type": "code",
   "execution_count": 16,
   "id": "frozen-hampshire",
   "metadata": {},
   "outputs": [],
   "source": [
    "stu=['ruchii','ashii']"
   ]
  },
  {
   "cell_type": "code",
   "execution_count": 17,
   "id": "historical-suspect",
   "metadata": {},
   "outputs": [
    {
     "name": "stdout",
     "output_type": "stream",
     "text": [
      "['ruchii', 'ashii']\n"
     ]
    }
   ],
   "source": [
    "print(stu)"
   ]
  },
  {
   "cell_type": "code",
   "execution_count": 19,
   "id": "premier-project",
   "metadata": {},
   "outputs": [],
   "source": [
    "stu.insert(2,'shewta')"
   ]
  },
  {
   "cell_type": "code",
   "execution_count": 20,
   "id": "accredited-therapy",
   "metadata": {},
   "outputs": [
    {
     "name": "stdout",
     "output_type": "stream",
     "text": [
      "['ruchii', 'ashii', 'shewta', 'shewta']\n"
     ]
    }
   ],
   "source": [
    "print(stu)"
   ]
  },
  {
   "cell_type": "code",
   "execution_count": 21,
   "id": "designing-winning",
   "metadata": {},
   "outputs": [],
   "source": [
    "del(stu[3])"
   ]
  },
  {
   "cell_type": "code",
   "execution_count": 22,
   "id": "increased-satisfaction",
   "metadata": {},
   "outputs": [
    {
     "name": "stdout",
     "output_type": "stream",
     "text": [
      "['ruchii', 'ashii', 'shewta']\n"
     ]
    }
   ],
   "source": [
    "print(stu)"
   ]
  },
  {
   "cell_type": "code",
   "execution_count": 24,
   "id": "decimal-drain",
   "metadata": {},
   "outputs": [
    {
     "name": "stdout",
     "output_type": "stream",
     "text": [
      "ashii\n"
     ]
    }
   ],
   "source": [
    "print (stu[1])"
   ]
  },
  {
   "cell_type": "code",
   "execution_count": null,
   "id": "august-chamber",
   "metadata": {},
   "outputs": [],
   "source": []
  },
  {
   "cell_type": "code",
   "execution_count": null,
   "id": "challenging-junction",
   "metadata": {},
   "outputs": [],
   "source": []
  },
  {
   "cell_type": "code",
   "execution_count": null,
   "id": "impossible-columbus",
   "metadata": {},
   "outputs": [],
   "source": []
  },
  {
   "cell_type": "code",
   "execution_count": null,
   "id": "impressed-builder",
   "metadata": {},
   "outputs": [],
   "source": []
  }
 ],
 "metadata": {
  "kernelspec": {
   "display_name": "Python 3",
   "language": "python",
   "name": "python3"
  },
  "language_info": {
   "codemirror_mode": {
    "name": "ipython",
    "version": 3
   },
   "file_extension": ".py",
   "mimetype": "text/x-python",
   "name": "python",
   "nbconvert_exporter": "python",
   "pygments_lexer": "ipython3",
   "version": "3.8.3"
  }
 },
 "nbformat": 4,
 "nbformat_minor": 5
}
