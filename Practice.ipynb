{
 "cells": [
  {
   "cell_type": "code",
   "execution_count": 1,
   "id": "speaking-increase",
   "metadata": {},
   "outputs": [
    {
     "name": "stdout",
     "output_type": "stream",
     "text": [
      "The sum of 37.69 and 17.73 is 55.42\n"
     ]
    }
   ],
   "source": [
    "num1 = 37.69\n",
    "num2 = 17.73\n",
    "\n",
    "sum = num1 + num2\n",
    "\n",
    "print('The sum of {0} and {1} is {2}'.format(num1, num2, sum))"
   ]
  },
  {
   "cell_type": "code",
   "execution_count": 2,
   "id": "binary-contemporary",
   "metadata": {},
   "outputs": [
    {
     "name": "stdout",
     "output_type": "stream",
     "text": [
      "The subtractionof 37.69 and 17.73 is 19.959999999999997\n"
     ]
    }
   ],
   "source": [
    "num1 = 37.69\n",
    "num2 = 17.73\n",
    "\n",
    "sum = num1 - num2\n",
    "\n",
    "print('The subtraction of {0} and {1} is {2}'.format(num1, num2, sum))"
   ]
  },
  {
   "cell_type": "code",
   "execution_count": 3,
   "id": "heated-provider",
   "metadata": {},
   "outputs": [
    {
     "name": "stdout",
     "output_type": "stream",
     "text": [
      "The  of 37.69 and 17.73 is 668.2437\n"
     ]
    }
   ],
   "source": [
    "num1 = 37.69\n",
    "num2 = 17.73\n",
    "\n",
    "sum = num1 * num2\n",
    "\n",
    "print('The multi of {0} and {1} is {2}'.format(num1, num2, sum))"
   ]
  },
  {
   "cell_type": "code",
   "execution_count": 4,
   "id": "normal-valve",
   "metadata": {},
   "outputs": [
    {
     "name": "stdout",
     "output_type": "stream",
     "text": [
      "The div  37.69 and 17.73 is 2.125775521714608\n"
     ]
    }
   ],
   "source": [
    "num1 = 37.69\n",
    "num2 = 17.73\n",
    "\n",
    "sum = num1 / num2\n",
    "\n",
    "print('The div of {0} and {1} is {2}'.format(num1, num2, sum))"
   ]
  },
  {
   "cell_type": "code",
   "execution_count": 1,
   "id": "unusual-evaluation",
   "metadata": {},
   "outputs": [
    {
     "name": "stdout",
     "output_type": "stream",
     "text": [
      "The sum of 6 and 6 is 12\n"
     ]
    }
   ],
   "source": [
    "num1 = 6\n",
    "num2 = 6\n",
    "\n",
    "sum = num1 + num2\n",
    "\n",
    "print('The sum of {0} and {1} is {2}'.format(num1, num2, sum))"
   ]
  },
  {
   "cell_type": "code",
   "execution_count": 2,
   "id": "baking-watts",
   "metadata": {},
   "outputs": [
    {
     "name": "stdout",
     "output_type": "stream",
     "text": [
      "The sum of 6 and 6 is 0\n"
     ]
    }
   ],
   "source": [
    "num1 = 6\n",
    "num2 = 6\n",
    "\n",
    "sum = num1 - num2\n",
    "\n",
    "print('The sub of {0} and {1} is {2}'.format(num1, num2, sum))"
   ]
  },
  {
   "cell_type": "code",
   "execution_count": 3,
   "id": "noble-blackjack",
   "metadata": {},
   "outputs": [
    {
     "name": "stdout",
     "output_type": "stream",
     "text": [
      "The multi of 5 and 6 is 30\n"
     ]
    }
   ],
   "source": [
    "num1 = 5\n",
    "num2 = 6\n",
    "\n",
    "sum = num1 * num2\n",
    "\n",
    "print('The multi of {0} and {1} is {2}'.format(num1, num2, sum))"
   ]
  },
  {
   "cell_type": "code",
   "execution_count": 5,
   "id": "developed-headset",
   "metadata": {},
   "outputs": [
    {
     "name": "stdout",
     "output_type": "stream",
     "text": [
      "The div of 9 and 7 is 1.2857142857142858\n"
     ]
    }
   ],
   "source": [
    "num1 = 9\n",
    "num2 = 7\n",
    "\n",
    "sum = num1 / num2\n",
    "\n",
    "print('The div of {0} and {1} is {2}'.format(num1, num2, sum))"
   ]
  },
  {
   "cell_type": "code",
   "execution_count": 1,
   "id": "human-manufacturer",
   "metadata": {},
   "outputs": [
    {
     "name": "stdout",
     "output_type": "stream",
     "text": [
      "enter first number: 2\n",
      "enter second numbar: 4\n",
      "enter third numbar: 4\n",
      "10.0\n"
     ]
    }
   ],
   "source": [
    "num1 = input('enter first number: ')\n",
    "num2 = input('enter second numbar: ')\n",
    "num3 = input('enter third numbar: ')\n",
    "\n",
    "sum = float(num1) + float(num2) + float(num3)\n",
    "\n",
    "print(sum)"
   ]
  },
  {
   "cell_type": "code",
   "execution_count": 3,
   "id": "acting-secret",
   "metadata": {},
   "outputs": [
    {
     "name": "stdout",
     "output_type": "stream",
     "text": [
      "enter first number: 5\n",
      "enter second numbar: 6\n",
      "enter third numbar: 2\n",
      "-3.0\n"
     ]
    }
   ],
   "source": [
    "num1 = input('enter first number: ')\n",
    "num2 = input('enter second numbar: ')\n",
    "num3 = input('enter third numbar: ')\n",
    "sub= float(num1) - float(num2) - float(num3)\n",
    "print(sub)"
   ]
  },
  {
   "cell_type": "code",
   "execution_count": 2,
   "id": "convenient-lender",
   "metadata": {},
   "outputs": [
    {
     "name": "stdout",
     "output_type": "stream",
     "text": [
      "hi\n"
     ]
    }
   ],
   "source": [
    "print(\"hi\")"
   ]
  },
  {
   "cell_type": "code",
   "execution_count": null,
   "id": "statistical-humanity",
   "metadata": {},
   "outputs": [],
   "source": []
  }
 ],
 "metadata": {
  "kernelspec": {
   "display_name": "Python 3",
   "language": "python",
   "name": "python3"
  },
  "language_info": {
   "codemirror_mode": {
    "name": "ipython",
    "version": 3
   },
   "file_extension": ".py",
   "mimetype": "text/x-python",
   "name": "python",
   "nbconvert_exporter": "python",
   "pygments_lexer": "ipython3",
   "version": "3.8.3"
  }
 },
 "nbformat": 4,
 "nbformat_minor": 5
}
